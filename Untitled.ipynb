{
 "cells": [
  {
   "cell_type": "code",
   "execution_count": 1,
   "id": "d245c658",
   "metadata": {},
   "outputs": [],
   "source": [
    "import pandas as pd"
   ]
  },
  {
   "cell_type": "code",
   "execution_count": 2,
   "id": "beaee903",
   "metadata": {},
   "outputs": [
    {
     "data": {
      "text/plain": [
       "['Frequency',\n",
       " 'Angle of attack',\n",
       " 'Chord length',\n",
       " 'Free-stream velocity',\n",
       " 'Suction side displacement thickness',\n",
       " 'Scaled sound pressure level']"
      ]
     },
     "execution_count": 2,
     "metadata": {},
     "output_type": "execute_result"
    }
   ],
   "source": [
    "col_names = ['Frequency','Angle of attack','Chord length','Free-stream velocity','Suction side displacement thickness',\n",
    "             'Scaled sound pressure level']\n",
    "col_names"
   ]
  },
  {
   "cell_type": "code",
   "execution_count": 3,
   "id": "c40d74c3",
   "metadata": {},
   "outputs": [],
   "source": [
    "df = pd.read_csv('airfoil_self_noise.dat',sep='\\t',names=col_names)"
   ]
  },
  {
   "cell_type": "code",
   "execution_count": 4,
   "id": "69ffb60f",
   "metadata": {},
   "outputs": [
    {
     "data": {
      "text/html": [
       "<div>\n",
       "<style scoped>\n",
       "    .dataframe tbody tr th:only-of-type {\n",
       "        vertical-align: middle;\n",
       "    }\n",
       "\n",
       "    .dataframe tbody tr th {\n",
       "        vertical-align: top;\n",
       "    }\n",
       "\n",
       "    .dataframe thead th {\n",
       "        text-align: right;\n",
       "    }\n",
       "</style>\n",
       "<table border=\"1\" class=\"dataframe\">\n",
       "  <thead>\n",
       "    <tr style=\"text-align: right;\">\n",
       "      <th></th>\n",
       "      <th>Frequency</th>\n",
       "      <th>Angle of attack</th>\n",
       "      <th>Chord length</th>\n",
       "      <th>Free-stream velocity</th>\n",
       "      <th>Suction side displacement thickness</th>\n",
       "      <th>Scaled sound pressure level</th>\n",
       "    </tr>\n",
       "  </thead>\n",
       "  <tbody>\n",
       "    <tr>\n",
       "      <th>0</th>\n",
       "      <td>800</td>\n",
       "      <td>0.0</td>\n",
       "      <td>0.3048</td>\n",
       "      <td>71.3</td>\n",
       "      <td>0.002663</td>\n",
       "      <td>126.201</td>\n",
       "    </tr>\n",
       "    <tr>\n",
       "      <th>1</th>\n",
       "      <td>1000</td>\n",
       "      <td>0.0</td>\n",
       "      <td>0.3048</td>\n",
       "      <td>71.3</td>\n",
       "      <td>0.002663</td>\n",
       "      <td>125.201</td>\n",
       "    </tr>\n",
       "    <tr>\n",
       "      <th>2</th>\n",
       "      <td>1250</td>\n",
       "      <td>0.0</td>\n",
       "      <td>0.3048</td>\n",
       "      <td>71.3</td>\n",
       "      <td>0.002663</td>\n",
       "      <td>125.951</td>\n",
       "    </tr>\n",
       "    <tr>\n",
       "      <th>3</th>\n",
       "      <td>1600</td>\n",
       "      <td>0.0</td>\n",
       "      <td>0.3048</td>\n",
       "      <td>71.3</td>\n",
       "      <td>0.002663</td>\n",
       "      <td>127.591</td>\n",
       "    </tr>\n",
       "    <tr>\n",
       "      <th>4</th>\n",
       "      <td>2000</td>\n",
       "      <td>0.0</td>\n",
       "      <td>0.3048</td>\n",
       "      <td>71.3</td>\n",
       "      <td>0.002663</td>\n",
       "      <td>127.461</td>\n",
       "    </tr>\n",
       "  </tbody>\n",
       "</table>\n",
       "</div>"
      ],
      "text/plain": [
       "   Frequency  Angle of attack  Chord length  Free-stream velocity  \\\n",
       "0        800              0.0        0.3048                  71.3   \n",
       "1       1000              0.0        0.3048                  71.3   \n",
       "2       1250              0.0        0.3048                  71.3   \n",
       "3       1600              0.0        0.3048                  71.3   \n",
       "4       2000              0.0        0.3048                  71.3   \n",
       "\n",
       "   Suction side displacement thickness  Scaled sound pressure level  \n",
       "0                             0.002663                      126.201  \n",
       "1                             0.002663                      125.201  \n",
       "2                             0.002663                      125.951  \n",
       "3                             0.002663                      127.591  \n",
       "4                             0.002663                      127.461  "
      ]
     },
     "execution_count": 4,
     "metadata": {},
     "output_type": "execute_result"
    }
   ],
   "source": [
    "df.head()"
   ]
  },
  {
   "cell_type": "code",
   "execution_count": 5,
   "id": "e2b27b1d",
   "metadata": {},
   "outputs": [
    {
     "data": {
      "text/html": [
       "<div>\n",
       "<style scoped>\n",
       "    .dataframe tbody tr th:only-of-type {\n",
       "        vertical-align: middle;\n",
       "    }\n",
       "\n",
       "    .dataframe tbody tr th {\n",
       "        vertical-align: top;\n",
       "    }\n",
       "\n",
       "    .dataframe thead th {\n",
       "        text-align: right;\n",
       "    }\n",
       "</style>\n",
       "<table border=\"1\" class=\"dataframe\">\n",
       "  <thead>\n",
       "    <tr style=\"text-align: right;\">\n",
       "      <th></th>\n",
       "      <th>Frequency</th>\n",
       "      <th>Angle of attack</th>\n",
       "      <th>Chord length</th>\n",
       "      <th>Free-stream velocity</th>\n",
       "      <th>Suction side displacement thickness</th>\n",
       "    </tr>\n",
       "  </thead>\n",
       "  <tbody>\n",
       "    <tr>\n",
       "      <th>0</th>\n",
       "      <td>800</td>\n",
       "      <td>0.0</td>\n",
       "      <td>0.3048</td>\n",
       "      <td>71.3</td>\n",
       "      <td>0.002663</td>\n",
       "    </tr>\n",
       "    <tr>\n",
       "      <th>1</th>\n",
       "      <td>1000</td>\n",
       "      <td>0.0</td>\n",
       "      <td>0.3048</td>\n",
       "      <td>71.3</td>\n",
       "      <td>0.002663</td>\n",
       "    </tr>\n",
       "    <tr>\n",
       "      <th>2</th>\n",
       "      <td>1250</td>\n",
       "      <td>0.0</td>\n",
       "      <td>0.3048</td>\n",
       "      <td>71.3</td>\n",
       "      <td>0.002663</td>\n",
       "    </tr>\n",
       "    <tr>\n",
       "      <th>3</th>\n",
       "      <td>1600</td>\n",
       "      <td>0.0</td>\n",
       "      <td>0.3048</td>\n",
       "      <td>71.3</td>\n",
       "      <td>0.002663</td>\n",
       "    </tr>\n",
       "    <tr>\n",
       "      <th>4</th>\n",
       "      <td>2000</td>\n",
       "      <td>0.0</td>\n",
       "      <td>0.3048</td>\n",
       "      <td>71.3</td>\n",
       "      <td>0.002663</td>\n",
       "    </tr>\n",
       "    <tr>\n",
       "      <th>...</th>\n",
       "      <td>...</td>\n",
       "      <td>...</td>\n",
       "      <td>...</td>\n",
       "      <td>...</td>\n",
       "      <td>...</td>\n",
       "    </tr>\n",
       "    <tr>\n",
       "      <th>1498</th>\n",
       "      <td>2500</td>\n",
       "      <td>15.6</td>\n",
       "      <td>0.1016</td>\n",
       "      <td>39.6</td>\n",
       "      <td>0.052849</td>\n",
       "    </tr>\n",
       "    <tr>\n",
       "      <th>1499</th>\n",
       "      <td>3150</td>\n",
       "      <td>15.6</td>\n",
       "      <td>0.1016</td>\n",
       "      <td>39.6</td>\n",
       "      <td>0.052849</td>\n",
       "    </tr>\n",
       "    <tr>\n",
       "      <th>1500</th>\n",
       "      <td>4000</td>\n",
       "      <td>15.6</td>\n",
       "      <td>0.1016</td>\n",
       "      <td>39.6</td>\n",
       "      <td>0.052849</td>\n",
       "    </tr>\n",
       "    <tr>\n",
       "      <th>1501</th>\n",
       "      <td>5000</td>\n",
       "      <td>15.6</td>\n",
       "      <td>0.1016</td>\n",
       "      <td>39.6</td>\n",
       "      <td>0.052849</td>\n",
       "    </tr>\n",
       "    <tr>\n",
       "      <th>1502</th>\n",
       "      <td>6300</td>\n",
       "      <td>15.6</td>\n",
       "      <td>0.1016</td>\n",
       "      <td>39.6</td>\n",
       "      <td>0.052849</td>\n",
       "    </tr>\n",
       "  </tbody>\n",
       "</table>\n",
       "<p>1503 rows × 5 columns</p>\n",
       "</div>"
      ],
      "text/plain": [
       "      Frequency  Angle of attack  Chord length  Free-stream velocity  \\\n",
       "0           800              0.0        0.3048                  71.3   \n",
       "1          1000              0.0        0.3048                  71.3   \n",
       "2          1250              0.0        0.3048                  71.3   \n",
       "3          1600              0.0        0.3048                  71.3   \n",
       "4          2000              0.0        0.3048                  71.3   \n",
       "...         ...              ...           ...                   ...   \n",
       "1498       2500             15.6        0.1016                  39.6   \n",
       "1499       3150             15.6        0.1016                  39.6   \n",
       "1500       4000             15.6        0.1016                  39.6   \n",
       "1501       5000             15.6        0.1016                  39.6   \n",
       "1502       6300             15.6        0.1016                  39.6   \n",
       "\n",
       "      Suction side displacement thickness  \n",
       "0                                0.002663  \n",
       "1                                0.002663  \n",
       "2                                0.002663  \n",
       "3                                0.002663  \n",
       "4                                0.002663  \n",
       "...                                   ...  \n",
       "1498                             0.052849  \n",
       "1499                             0.052849  \n",
       "1500                             0.052849  \n",
       "1501                             0.052849  \n",
       "1502                             0.052849  \n",
       "\n",
       "[1503 rows x 5 columns]"
      ]
     },
     "execution_count": 5,
     "metadata": {},
     "output_type": "execute_result"
    }
   ],
   "source": [
    "X = df.iloc[:,:-1]\n",
    "X"
   ]
  },
  {
   "cell_type": "code",
   "execution_count": 6,
   "id": "dde3f0bb",
   "metadata": {},
   "outputs": [
    {
     "data": {
      "text/plain": [
       "0       126.201\n",
       "1       125.201\n",
       "2       125.951\n",
       "3       127.591\n",
       "4       127.461\n",
       "         ...   \n",
       "1498    110.264\n",
       "1499    109.254\n",
       "1500    106.604\n",
       "1501    106.224\n",
       "1502    104.204\n",
       "Name: Scaled sound pressure level, Length: 1503, dtype: float64"
      ]
     },
     "execution_count": 6,
     "metadata": {},
     "output_type": "execute_result"
    }
   ],
   "source": [
    "y = df.iloc[:,-1]\n",
    "y"
   ]
  },
  {
   "cell_type": "code",
   "execution_count": 7,
   "id": "dd1d6651",
   "metadata": {},
   "outputs": [],
   "source": [
    "# train and test data split\n",
    "from sklearn.model_selection import train_test_split\n",
    "X_train,X_test,y_train,y_test = train_test_split(X,y,test_size=0.2)"
   ]
  },
  {
   "cell_type": "code",
   "execution_count": 8,
   "id": "e7038682",
   "metadata": {},
   "outputs": [
    {
     "data": {
      "text/plain": [
       "<seaborn.axisgrid.PairGrid at 0x1fe0c330700>"
      ]
     },
     "execution_count": 8,
     "metadata": {},
     "output_type": "execute_result"
    },
    {
     "data": {
      "image/png": "[encoded data removed]",
      "text/plain": [
       "<Figure size 900x900 with 30 Axes>"
      ]
     },
     "metadata": {
      "needs_background": "light"
     },
     "output_type": "display_data"
    }
   ],
   "source": [
    "import seaborn as sns\n",
    "sns.pairplot(X_train)"
   ]
  },
  {
   "cell_type": "code",
   "execution_count": 9,
   "id": "303d31da",
   "metadata": {},
   "outputs": [
    {
     "data": {
      "text/html": [
       "<div>\n",
       "<style scoped>\n",
       "    .dataframe tbody tr th:only-of-type {\n",
       "        vertical-align: middle;\n",
       "    }\n",
       "\n",
       "    .dataframe tbody tr th {\n",
       "        vertical-align: top;\n",
       "    }\n",
       "\n",
       "    .dataframe thead th {\n",
       "        text-align: right;\n",
       "    }\n",
       "</style>\n",
       "<table border=\"1\" class=\"dataframe\">\n",
       "  <thead>\n",
       "    <tr style=\"text-align: right;\">\n",
       "      <th></th>\n",
       "      <th>Frequency</th>\n",
       "      <th>Angle of attack</th>\n",
       "      <th>Chord length</th>\n",
       "      <th>Free-stream velocity</th>\n",
       "      <th>Suction side displacement thickness</th>\n",
       "    </tr>\n",
       "  </thead>\n",
       "  <tbody>\n",
       "    <tr>\n",
       "      <th>Frequency</th>\n",
       "      <td>1.000000</td>\n",
       "      <td>-0.280576</td>\n",
       "      <td>-0.011113</td>\n",
       "      <td>0.144484</td>\n",
       "      <td>-0.231048</td>\n",
       "    </tr>\n",
       "    <tr>\n",
       "      <th>Angle of attack</th>\n",
       "      <td>-0.280576</td>\n",
       "      <td>1.000000</td>\n",
       "      <td>-0.491708</td>\n",
       "      <td>0.060352</td>\n",
       "      <td>0.753836</td>\n",
       "    </tr>\n",
       "    <tr>\n",
       "      <th>Chord length</th>\n",
       "      <td>-0.011113</td>\n",
       "      <td>-0.491708</td>\n",
       "      <td>1.000000</td>\n",
       "      <td>-0.022591</td>\n",
       "      <td>-0.203988</td>\n",
       "    </tr>\n",
       "    <tr>\n",
       "      <th>Free-stream velocity</th>\n",
       "      <td>0.144484</td>\n",
       "      <td>0.060352</td>\n",
       "      <td>-0.022591</td>\n",
       "      <td>1.000000</td>\n",
       "      <td>0.004883</td>\n",
       "    </tr>\n",
       "    <tr>\n",
       "      <th>Suction side displacement thickness</th>\n",
       "      <td>-0.231048</td>\n",
       "      <td>0.753836</td>\n",
       "      <td>-0.203988</td>\n",
       "      <td>0.004883</td>\n",
       "      <td>1.000000</td>\n",
       "    </tr>\n",
       "  </tbody>\n",
       "</table>\n",
       "</div>"
      ],
      "text/plain": [
       "                                     Frequency  Angle of attack  Chord length  \\\n",
       "Frequency                             1.000000        -0.280576     -0.011113   \n",
       "Angle of attack                      -0.280576         1.000000     -0.491708   \n",
       "Chord length                         -0.011113        -0.491708      1.000000   \n",
       "Free-stream velocity                  0.144484         0.060352     -0.022591   \n",
       "Suction side displacement thickness  -0.231048         0.753836     -0.203988   \n",
       "\n",
       "                                     Free-stream velocity  \\\n",
       "Frequency                                        0.144484   \n",
       "Angle of attack                                  0.060352   \n",
       "Chord length                                    -0.022591   \n",
       "Free-stream velocity                             1.000000   \n",
       "Suction side displacement thickness              0.004883   \n",
       "\n",
       "                                     Suction side displacement thickness  \n",
       "Frequency                                                      -0.231048  \n",
       "Angle of attack                                                 0.753836  \n",
       "Chord length                                                   -0.203988  \n",
       "Free-stream velocity                                            0.004883  \n",
       "Suction side displacement thickness                             1.000000  "
      ]
     },
     "execution_count": 9,
     "metadata": {},
     "output_type": "execute_result"
    }
   ],
   "source": [
    "import matplotlib.pyplot as plt\n",
    "X_train.corr()"
   ]
  },
  {
   "cell_type": "code",
   "execution_count": 10,
   "id": "d796601e",
   "metadata": {},
   "outputs": [
    {
     "data": {
      "text/plain": [
       "'from pandas_profiling import profile_report\\npf = profile_report(df)\\npf.to_widgets(df) #EDA'"
      ]
     },
     "execution_count": 10,
     "metadata": {},
     "output_type": "execute_result"
    }
   ],
   "source": [
    "'''from pandas_profiling import profile_report\n",
    "pf = profile_report(df)\n",
    "pf.to_widgets(df) #EDA'''"
   ]
  },
  {
   "cell_type": "code",
   "execution_count": 11,
   "id": "ad357a4a",
   "metadata": {},
   "outputs": [
    {
     "name": "stderr",
     "output_type": "stream",
     "text": [
      "C:\\Users\\fazlu\\anaconda3\\lib\\site-packages\\seaborn\\_decorators.py:36: FutureWarning: Pass the following variable as a keyword arg: x. From version 0.12, the only valid positional argument will be `data`, and passing other arguments without an explicit keyword will result in an error or misinterpretation.\n",
      "  warnings.warn(\n"
     ]
    },
    {
     "data": {
      "text/plain": [
       "<AxesSubplot:xlabel='Frequency'>"
      ]
     },
     "execution_count": 11,
     "metadata": {},
     "output_type": "execute_result"
    },
    {
     "data": {
      "image/png": "[encoded data removed]",
      "text/plain": [
       "<Figure size 432x288 with 1 Axes>"
      ]
     },
     "metadata": {
      "needs_background": "light"
     },
     "output_type": "display_data"
    }
   ],
   "source": [
    "sns.boxplot(X_train['Frequency'])"
   ]
  },
  {
   "cell_type": "code",
   "execution_count": 12,
   "id": "6277c61b",
   "metadata": {},
   "outputs": [
    {
     "name": "stderr",
     "output_type": "stream",
     "text": [
      "C:\\Users\\fazlu\\anaconda3\\lib\\site-packages\\seaborn\\_decorators.py:36: FutureWarning: Pass the following variable as a keyword arg: x. From version 0.12, the only valid positional argument will be `data`, and passing other arguments without an explicit keyword will result in an error or misinterpretation.\n",
      "  warnings.warn(\n"
     ]
    },
    {
     "data": {
      "text/plain": [
       "<AxesSubplot:xlabel='Angle of attack'>"
      ]
     },
     "execution_count": 12,
     "metadata": {},
     "output_type": "execute_result"
    },
    {
     "data": {
      "image/png": "[encoded data removed]",
      "text/plain": [
       "<Figure size 432x288 with 1 Axes>"
      ]
     },
     "metadata": {
      "needs_background": "light"
     },
     "output_type": "display_data"
    }
   ],
   "source": [
    "sns.boxplot(X_train['Angle of attack'])"
   ]
  },
  {
   "cell_type": "code",
   "execution_count": 13,
   "id": "3e2a457c",
   "metadata": {},
   "outputs": [
    {
     "name": "stderr",
     "output_type": "stream",
     "text": [
      "C:\\Users\\fazlu\\anaconda3\\lib\\site-packages\\seaborn\\_decorators.py:36: FutureWarning: Pass the following variable as a keyword arg: x. From version 0.12, the only valid positional argument will be `data`, and passing other arguments without an explicit keyword will result in an error or misinterpretation.\n",
      "  warnings.warn(\n"
     ]
    },
    {
     "data": {
      "text/plain": [
       "<AxesSubplot:xlabel='Chord length'>"
      ]
     },
     "execution_count": 13,
     "metadata": {},
     "output_type": "execute_result"
    },
    {
     "data": {
      "image/png": "[encoded data removed]",
      "text/plain": [
       "<Figure size 432x288 with 1 Axes>"
      ]
     },
     "metadata": {
      "needs_background": "light"
     },
     "output_type": "display_data"
    }
   ],
   "source": [
    "sns.boxplot(X_train['Chord length'])"
   ]
  },
  {
   "cell_type": "code",
   "execution_count": 14,
   "id": "603ad9ce",
   "metadata": {},
   "outputs": [
    {
     "name": "stderr",
     "output_type": "stream",
     "text": [
      "C:\\Users\\fazlu\\anaconda3\\lib\\site-packages\\seaborn\\_decorators.py:36: FutureWarning: Pass the following variable as a keyword arg: x. From version 0.12, the only valid positional argument will be `data`, and passing other arguments without an explicit keyword will result in an error or misinterpretation.\n",
      "  warnings.warn(\n"
     ]
    },
    {
     "data": {
      "text/plain": [
       "<AxesSubplot:xlabel='Free-stream velocity'>"
      ]
     },
     "execution_count": 14,
     "metadata": {},
     "output_type": "execute_result"
    },
    {
     "data": {
      "image/png": "[encoded data removed]",
      "text/plain": [
       "<Figure size 432x288 with 1 Axes>"
      ]
     },
     "metadata": {
      "needs_background": "light"
     },
     "output_type": "display_data"
    }
   ],
   "source": [
    "sns.boxplot(X_train['Free-stream velocity'])"
   ]
  },
  {
   "cell_type": "code",
   "execution_count": 15,
   "id": "33181556",
   "metadata": {},
   "outputs": [
    {
     "name": "stderr",
     "output_type": "stream",
     "text": [
      "C:\\Users\\fazlu\\anaconda3\\lib\\site-packages\\seaborn\\_decorators.py:36: FutureWarning: Pass the following variable as a keyword arg: x. From version 0.12, the only valid positional argument will be `data`, and passing other arguments without an explicit keyword will result in an error or misinterpretation.\n",
      "  warnings.warn(\n"
     ]
    },
    {
     "data": {
      "text/plain": [
       "<AxesSubplot:xlabel='Suction side displacement thickness'>"
      ]
     },
     "execution_count": 15,
     "metadata": {},
     "output_type": "execute_result"
    },
    {
     "data": {
      "image/png": "[encoded data removed]",
      "text/plain": [
       "<Figure size 432x288 with 1 Axes>"
      ]
     },
     "metadata": {
      "needs_background": "light"
     },
     "output_type": "display_data"
    }
   ],
   "source": [
    "sns.boxplot(X_train['Suction side displacement thickness'])"
   ]
  },
  {
   "cell_type": "code",
   "execution_count": 16,
   "id": "d25ccaa8",
   "metadata": {},
   "outputs": [
    {
     "data": {
      "text/plain": [
       "Index(['Frequency', 'Angle of attack', 'Chord length', 'Free-stream velocity',\n",
       "       'Suction side displacement thickness'],\n",
       "      dtype='object')"
      ]
     },
     "execution_count": 16,
     "metadata": {},
     "output_type": "execute_result"
    }
   ],
   "source": [
    "X_train.columns"
   ]
  },
  {
   "cell_type": "code",
   "execution_count": 17,
   "id": "20323825",
   "metadata": {},
   "outputs": [
    {
     "name": "stderr",
     "output_type": "stream",
     "text": [
      "C:\\Users\\fazlu\\anaconda3\\lib\\site-packages\\seaborn\\_decorators.py:36: FutureWarning: Pass the following variables as keyword args: x, y. From version 0.12, the only valid positional argument will be `data`, and passing other arguments without an explicit keyword will result in an error or misinterpretation.\n",
      "  warnings.warn(\n"
     ]
    },
    {
     "data": {
      "text/plain": [
       "<AxesSubplot:xlabel='Frequency', ylabel='Suction side displacement thickness'>"
      ]
     },
     "execution_count": 17,
     "metadata": {},
     "output_type": "execute_result"
    },
    {
     "data": {
      "image/png": "[encoded data removed]",
      "text/plain": [
       "<Figure size 432x288 with 1 Axes>"
      ]
     },
     "metadata": {
      "needs_background": "light"
     },
     "output_type": "display_data"
    }
   ],
   "source": [
    "sns.scatterplot(X_train['Frequency'],X_train['Suction side displacement thickness'])"
   ]
  },
  {
   "cell_type": "code",
   "execution_count": 18,
   "id": "2a563d49",
   "metadata": {},
   "outputs": [
    {
     "data": {
      "text/plain": [
       "array([0.00266337, 0.00283081, 0.00310138, 0.00331266, 0.00336729,\n",
       "       0.00392107, 0.00425727, 0.00452492, 0.00495741, 0.00529514,\n",
       "       0.00497773, 0.00579636, 0.00214345, 0.00229336, 0.00253511,\n",
       "       0.0027238 , 0.00293031, 0.00313525, 0.00346574, 0.00372371,\n",
       "       0.00400603, 0.0042862 , 0.00473801, 0.00509068, 0.0051942 ,\n",
       "       0.00614329, 0.0104404 , 0.0111706 , 0.0123481 , 0.0132672 ,\n",
       "       0.0015988 , 0.00172668, 0.00193287, 0.00209405, 0.00243851,\n",
       "       0.00294804, 0.00401199, 0.00433288, 0.00485029, 0.00525474,\n",
       "       0.00752039, 0.00909175, 0.0193001 , 0.0208438 , 0.0233328 ,\n",
       "       0.0252785 , 0.0483159 , 0.0584113 , 0.00074048, 0.00076193,\n",
       "       0.00079182, 0.00081216, 0.00142788, 0.00152689, 0.00544854,\n",
       "       0.00566229, 0.00580776, 0.014072  , 0.0150478 , 0.0264269 ,\n",
       "       0.0271925 , 0.0282593 , 0.0289853 , 0.0341183 , 0.036484  ,\n",
       "       0.00040068, 0.00041229, 0.00042846, 0.00043947, 0.00084863,\n",
       "       0.00087322, 0.00090748, 0.00093079, 0.00420654, 0.0043284 ,\n",
       "       0.00449821, 0.00461377, 0.0121808 , 0.0130253 , 0.016104  ,\n",
       "       0.0165706 , 0.0172206 , 0.0176631 , 0.0214178 , 0.0229028 ,\n",
       "       0.00121072, 0.00131983, 0.00146332, 0.00150092, 0.00202822,\n",
       "       0.002211  , 0.00245138, 0.00251435, 0.00478288, 0.0052139 ,\n",
       "       0.00578076, 0.00592927, 0.0103088 , 0.0124596 , 0.0337792 ,\n",
       "       0.0368233 , 0.0408268 , 0.0418756 , 0.0437259 , 0.0528487 ])"
      ]
     },
     "execution_count": 18,
     "metadata": {},
     "output_type": "execute_result"
    }
   ],
   "source": [
    "df['Suction side displacement thickness'].unique()"
   ]
  },
  {
   "cell_type": "code",
   "execution_count": 19,
   "id": "a6d0a5b9",
   "metadata": {},
   "outputs": [
    {
     "data": {
      "text/plain": [
       "array([0.3048, 0.2286, 0.1524, 0.0508, 0.0254, 0.1016])"
      ]
     },
     "execution_count": 19,
     "metadata": {},
     "output_type": "execute_result"
    }
   ],
   "source": [
    "df['Chord length'].unique()"
   ]
  },
  {
   "cell_type": "code",
   "execution_count": 20,
   "id": "2734f8e4",
   "metadata": {},
   "outputs": [
    {
     "data": {
      "text/plain": [
       "Index(['Frequency', 'Angle of attack', 'Chord length', 'Free-stream velocity',\n",
       "       'Suction side displacement thickness', 'Scaled sound pressure level'],\n",
       "      dtype='object')"
      ]
     },
     "execution_count": 20,
     "metadata": {},
     "output_type": "execute_result"
    }
   ],
   "source": [
    "df.columns"
   ]
  },
  {
   "cell_type": "code",
   "execution_count": 21,
   "id": "136ee777",
   "metadata": {},
   "outputs": [
    {
     "name": "stderr",
     "output_type": "stream",
     "text": [
      "C:\\Users\\fazlu\\anaconda3\\lib\\site-packages\\seaborn\\_decorators.py:36: FutureWarning: Pass the following variable as a keyword arg: x. From version 0.12, the only valid positional argument will be `data`, and passing other arguments without an explicit keyword will result in an error or misinterpretation.\n",
      "  warnings.warn(\n"
     ]
    },
    {
     "data": {
      "text/plain": [
       "<AxesSubplot:xlabel='Scaled sound pressure level'>"
      ]
     },
     "execution_count": 21,
     "metadata": {},
     "output_type": "execute_result"
    },
    {
     "data": {
      "image/png": "[encoded data removed]",
      "text/plain": [
       "<Figure size 432x288 with 1 Axes>"
      ]
     },
     "metadata": {
      "needs_background": "light"
     },
     "output_type": "display_data"
    }
   ],
   "source": [
    "sns.boxplot(df['Scaled sound pressure level'])"
   ]
  },
  {
   "cell_type": "code",
   "execution_count": 22,
   "id": "64db6cb5",
   "metadata": {},
   "outputs": [],
   "source": [
    "from sklearn.linear_model import LinearRegression"
   ]
  },
  {
   "cell_type": "code",
   "execution_count": 23,
   "id": "cd29ae9e",
   "metadata": {},
   "outputs": [],
   "source": [
    "regressor = LinearRegression()"
   ]
  },
  {
   "cell_type": "code",
   "execution_count": 24,
   "id": "4dc4af3a",
   "metadata": {},
   "outputs": [
    {
     "data": {
      "text/plain": [
       "LinearRegression()"
      ]
     },
     "execution_count": 24,
     "metadata": {},
     "output_type": "execute_result"
    }
   ],
   "source": [
    "regressor.fit(X_train,y_train)"
   ]
  },
  {
   "cell_type": "code",
   "execution_count": 25,
   "id": "bdd228eb",
   "metadata": {},
   "outputs": [],
   "source": [
    "import pickle"
   ]
  },
  {
   "cell_type": "code",
   "execution_count": 26,
   "id": "db08de27",
   "metadata": {},
   "outputs": [],
   "source": [
    "pickle.dump(regressor, open('model.pkl','wb'))"
   ]
  },
  {
   "cell_type": "code",
   "execution_count": 27,
   "id": "de9b8c2b",
   "metadata": {},
   "outputs": [],
   "source": [
    "pickle_model = pickle.load(open('model.pkl','rb'))"
   ]
  },
  {
   "cell_type": "code",
   "execution_count": 28,
   "id": "9358e45b",
   "metadata": {},
   "outputs": [
    {
     "data": {
      "text/plain": [
       "array([119.30065087, 123.5074419 , 130.83417375, 119.82206093,\n",
       "       126.12137777, 126.43457875, 121.28902667, 123.45062692,\n",
       "       120.82607605, 121.54569872, 123.90646812, 126.65180877,\n",
       "       122.96431264, 124.88605283, 122.85977156, 126.28118748,\n",
       "       125.37879691, 126.98653225, 129.57277745, 127.91628601,\n",
       "       114.67109894, 122.8647164 , 127.26310789, 116.79568633,\n",
       "       127.65875474, 122.33233152, 122.64793704, 129.77387615,\n",
       "       117.94183957, 114.08852399, 110.90570885, 129.10504191,\n",
       "       114.96373136, 126.93261806, 121.62875414, 123.78224977,\n",
       "       130.62940838, 122.88744756, 128.84310588, 118.54676806,\n",
       "       128.92125186, 130.54276873, 122.66573853, 125.27196083,\n",
       "       127.4097939 , 123.09048523, 133.49278928, 122.71082577,\n",
       "       127.17435795, 132.8443644 , 115.43724063, 115.235148  ,\n",
       "       123.15428348, 127.28615334, 125.24053626, 133.32453336,\n",
       "       124.58084134, 121.50061823, 121.02844367, 126.9080176 ,\n",
       "       118.00465594, 123.18665725, 121.52984611, 114.3749885 ,\n",
       "       126.67696027, 126.29466441, 123.86933376, 127.06806063,\n",
       "       122.9479773 , 117.82242313, 120.42204896, 122.24897871,\n",
       "       126.89836431, 128.55535505, 124.8587955 , 119.69592821,\n",
       "       119.5923657 , 129.96715364, 128.84373268, 127.27870082,\n",
       "       128.75170397, 124.34669254, 127.07612815, 123.76354403,\n",
       "       135.49611919, 119.20586258, 125.52697552, 127.51195181,\n",
       "       122.46406625, 123.7472385 , 125.64449782, 125.74301918,\n",
       "       128.69337694, 127.89121155, 124.89554336, 122.52604246,\n",
       "       131.23052659, 128.60091022, 124.77325113, 129.7360844 ,\n",
       "       129.23295583, 120.50685458, 120.03289199, 122.4675862 ,\n",
       "       122.68101761, 122.97448453, 125.90305175, 132.3047417 ,\n",
       "       133.80684111, 124.64684443, 129.00076675, 130.77387222,\n",
       "       129.01518198, 130.03821916, 127.78118375, 131.48618079,\n",
       "       127.58035974, 121.75389601, 124.85002599, 122.01008261,\n",
       "       122.10861832, 121.50350558, 119.70869456, 126.80906596,\n",
       "       123.586126  , 126.60499009, 123.26180256, 121.37188946,\n",
       "       132.10239592, 123.75617314, 120.46206989, 131.46388515,\n",
       "       125.02449259, 119.6359151 , 132.09064001, 130.61389843,\n",
       "       113.86537009, 133.41638435, 128.51269905, 124.08021264,\n",
       "       125.1506009 , 131.22989978, 125.58899992, 120.451898  ,\n",
       "       127.37229062, 127.01106601, 118.7574205 , 120.54383451,\n",
       "       132.00937512, 125.07388232, 123.62330669, 121.01873104,\n",
       "       121.43604489, 129.6477624 , 125.9815664 , 129.02499815,\n",
       "       122.07175706, 126.07593408, 133.98867041, 126.3377678 ,\n",
       "       123.2310817 , 128.67166602, 123.20220602, 128.77344653,\n",
       "       129.01940059, 127.34273365, 120.74306223, 123.43311134,\n",
       "       119.36045697, 126.38033079, 130.51909676, 129.04749861,\n",
       "       126.31385593, 117.99996997, 128.71190429, 133.64172652,\n",
       "       107.89218103, 113.84052312, 126.58665331, 125.7920028 ,\n",
       "       123.47129945, 129.07574245, 130.05013623, 123.93901187,\n",
       "       119.59620369, 127.23664122, 126.8771031 , 124.76628619,\n",
       "       132.05021751, 129.53051241, 119.99817073, 130.21808494,\n",
       "       123.46679556, 133.36056675, 112.1586843 , 127.09671016,\n",
       "       125.14051142, 132.55167703, 130.18623129, 125.4540915 ,\n",
       "       121.52823472, 120.5123846 , 120.20921704, 120.89393277,\n",
       "       121.15137252, 123.98582534, 114.11568418, 133.66762581,\n",
       "       126.70308554, 130.79022722, 127.22073093, 126.2601402 ,\n",
       "       122.28844906, 121.70422786, 125.36663414, 126.17214518,\n",
       "       125.58606153, 119.81991688, 122.36805734, 120.02477826,\n",
       "       117.69287348, 115.95724204, 127.69934847, 130.40513728,\n",
       "       124.45559277, 128.44006684, 131.26660588, 126.77865264,\n",
       "       123.85918536, 126.86431181, 134.93082589, 120.43359341,\n",
       "       126.84520724, 118.85947483, 127.55087172, 122.45914556,\n",
       "       124.51828531, 130.23370307, 118.56464752, 126.15429321,\n",
       "       119.76954448, 127.42476847, 127.96024506, 123.25770392,\n",
       "       128.20526338, 124.98441623, 122.40352323, 126.34201769,\n",
       "       119.26706155, 119.00338213, 130.97091763, 125.38030801,\n",
       "       120.4924866 , 112.9558663 , 135.09337224, 124.48193331,\n",
       "       130.82892938, 123.51007887, 125.94328979, 124.98549672,\n",
       "       132.3855192 , 117.52047735, 118.90181198, 122.72025256,\n",
       "       126.94905606, 117.92494022, 123.36098765, 126.77414678,\n",
       "       126.71659925, 125.2563762 , 125.08199168, 126.70695183,\n",
       "       127.53318287, 123.0067814 , 120.51297496, 124.66914802,\n",
       "       124.89801243, 127.28417317, 126.80024884, 120.39672077,\n",
       "       130.0957975 , 125.54045749, 126.95066199, 123.8451975 ,\n",
       "       132.71848472, 123.32287024, 126.5093835 , 118.15733858,\n",
       "       127.73521629, 131.20579157, 123.07339256, 114.5459902 ,\n",
       "       123.6567664 , 124.7440771 , 128.83497297, 132.09198881,\n",
       "       128.27604548, 127.68634245, 123.10498382, 117.93560591,\n",
       "       134.49115333])"
      ]
     },
     "execution_count": 28,
     "metadata": {},
     "output_type": "execute_result"
    }
   ],
   "source": [
    "#batch input\n",
    "pickle_model.predict(X_test)"
   ]
  },
  {
   "cell_type": "code",
   "execution_count": 31,
   "id": "14c3f031",
   "metadata": {},
   "outputs": [
    {
     "data": {
      "text/html": [
       "<div>\n",
       "<style scoped>\n",
       "    .dataframe tbody tr th:only-of-type {\n",
       "        vertical-align: middle;\n",
       "    }\n",
       "\n",
       "    .dataframe tbody tr th {\n",
       "        vertical-align: top;\n",
       "    }\n",
       "\n",
       "    .dataframe thead th {\n",
       "        text-align: right;\n",
       "    }\n",
       "</style>\n",
       "<table border=\"1\" class=\"dataframe\">\n",
       "  <thead>\n",
       "    <tr style=\"text-align: right;\">\n",
       "      <th></th>\n",
       "      <th>Frequency</th>\n",
       "      <th>Angle of attack</th>\n",
       "      <th>Chord length</th>\n",
       "      <th>Free-stream velocity</th>\n",
       "      <th>Suction side displacement thickness</th>\n",
       "    </tr>\n",
       "  </thead>\n",
       "  <tbody>\n",
       "    <tr>\n",
       "      <th>109</th>\n",
       "      <td>6300</td>\n",
       "      <td>3.0</td>\n",
       "      <td>0.3048</td>\n",
       "      <td>71.3</td>\n",
       "      <td>0.004257</td>\n",
       "    </tr>\n",
       "    <tr>\n",
       "      <th>1329</th>\n",
       "      <td>6300</td>\n",
       "      <td>3.3</td>\n",
       "      <td>0.1016</td>\n",
       "      <td>39.6</td>\n",
       "      <td>0.002451</td>\n",
       "    </tr>\n",
       "    <tr>\n",
       "      <th>987</th>\n",
       "      <td>4000</td>\n",
       "      <td>0.0</td>\n",
       "      <td>0.0254</td>\n",
       "      <td>39.6</td>\n",
       "      <td>0.000428</td>\n",
       "    </tr>\n",
       "    <tr>\n",
       "      <th>1463</th>\n",
       "      <td>800</td>\n",
       "      <td>12.3</td>\n",
       "      <td>0.1016</td>\n",
       "      <td>31.7</td>\n",
       "      <td>0.041876</td>\n",
       "    </tr>\n",
       "    <tr>\n",
       "      <th>16</th>\n",
       "      <td>800</td>\n",
       "      <td>0.0</td>\n",
       "      <td>0.3048</td>\n",
       "      <td>55.5</td>\n",
       "      <td>0.002831</td>\n",
       "    </tr>\n",
       "    <tr>\n",
       "      <th>...</th>\n",
       "      <td>...</td>\n",
       "      <td>...</td>\n",
       "      <td>...</td>\n",
       "      <td>...</td>\n",
       "      <td>...</td>\n",
       "    </tr>\n",
       "    <tr>\n",
       "      <th>783</th>\n",
       "      <td>6300</td>\n",
       "      <td>4.2</td>\n",
       "      <td>0.0508</td>\n",
       "      <td>71.3</td>\n",
       "      <td>0.001428</td>\n",
       "    </tr>\n",
       "    <tr>\n",
       "      <th>262</th>\n",
       "      <td>1000</td>\n",
       "      <td>2.0</td>\n",
       "      <td>0.2286</td>\n",
       "      <td>55.5</td>\n",
       "      <td>0.003135</td>\n",
       "    </tr>\n",
       "    <tr>\n",
       "      <th>339</th>\n",
       "      <td>2500</td>\n",
       "      <td>4.0</td>\n",
       "      <td>0.2286</td>\n",
       "      <td>39.6</td>\n",
       "      <td>0.004738</td>\n",
       "    </tr>\n",
       "    <tr>\n",
       "      <th>1238</th>\n",
       "      <td>4000</td>\n",
       "      <td>22.2</td>\n",
       "      <td>0.0254</td>\n",
       "      <td>39.6</td>\n",
       "      <td>0.022903</td>\n",
       "    </tr>\n",
       "    <tr>\n",
       "      <th>741</th>\n",
       "      <td>1600</td>\n",
       "      <td>0.0</td>\n",
       "      <td>0.0508</td>\n",
       "      <td>55.5</td>\n",
       "      <td>0.000762</td>\n",
       "    </tr>\n",
       "  </tbody>\n",
       "</table>\n",
       "<p>301 rows × 5 columns</p>\n",
       "</div>"
      ],
      "text/plain": [
       "      Frequency  Angle of attack  Chord length  Free-stream velocity  \\\n",
       "109        6300              3.0        0.3048                  71.3   \n",
       "1329       6300              3.3        0.1016                  39.6   \n",
       "987        4000              0.0        0.0254                  39.6   \n",
       "1463        800             12.3        0.1016                  31.7   \n",
       "16          800              0.0        0.3048                  55.5   \n",
       "...         ...              ...           ...                   ...   \n",
       "783        6300              4.2        0.0508                  71.3   \n",
       "262        1000              2.0        0.2286                  55.5   \n",
       "339        2500              4.0        0.2286                  39.6   \n",
       "1238       4000             22.2        0.0254                  39.6   \n",
       "741        1600              0.0        0.0508                  55.5   \n",
       "\n",
       "      Suction side displacement thickness  \n",
       "109                              0.004257  \n",
       "1329                             0.002451  \n",
       "987                              0.000428  \n",
       "1463                             0.041876  \n",
       "16                               0.002831  \n",
       "...                                   ...  \n",
       "783                              0.001428  \n",
       "262                              0.003135  \n",
       "339                              0.004738  \n",
       "1238                             0.022903  \n",
       "741                              0.000762  \n",
       "\n",
       "[301 rows x 5 columns]"
      ]
     },
     "execution_count": 31,
     "metadata": {},
     "output_type": "execute_result"
    }
   ],
   "source": [
    "X_test"
   ]
  },
  {
   "cell_type": "code",
   "execution_count": 32,
   "id": "af689095",
   "metadata": {},
   "outputs": [
    {
     "data": {
      "text/plain": [
       "Frequency                              6300.000000\n",
       "Angle of attack                           3.000000\n",
       "Chord length                              0.304800\n",
       "Free-stream velocity                     71.300000\n",
       "Suction side displacement thickness       0.004257\n",
       "Name: 109, dtype: float64"
      ]
     },
     "execution_count": 32,
     "metadata": {},
     "output_type": "execute_result"
    }
   ],
   "source": [
    "X_test.loc[109]"
   ]
  },
  {
   "cell_type": "code",
   "execution_count": 34,
   "id": "0e4b9521",
   "metadata": {},
   "outputs": [],
   "source": [
    "dict_test = {\n",
    "    \"Frequency\":9,\n",
    "    \"Angle of attack\":0,\n",
    "    \"Chord length\":10,\n",
    "    \"Free-stream velocity\":1,\n",
    "    \"Suction side displacement thickness\":7\n",
    "}"
   ]
  },
  {
   "cell_type": "code",
   "execution_count": 35,
   "id": "67ecfa75",
   "metadata": {},
   "outputs": [
    {
     "data": {
      "text/plain": [
       "{'Frequency': 9,\n",
       " 'Angle of attack': 0,\n",
       " 'Chord length': 10,\n",
       " 'Free-stream velocity': 1,\n",
       " 'Suction side displacement thickness': 7}"
      ]
     },
     "execution_count": 35,
     "metadata": {},
     "output_type": "execute_result"
    }
   ],
   "source": [
    "dict_test"
   ]
  },
  {
   "cell_type": "code",
   "execution_count": 36,
   "id": "d45b4b7e",
   "metadata": {},
   "outputs": [
    {
     "data": {
      "text/plain": [
       "dict_values([9, 0, 10, 1, 7])"
      ]
     },
     "execution_count": 36,
     "metadata": {},
     "output_type": "execute_result"
    }
   ],
   "source": [
    "dict_test.values()"
   ]
  },
  {
   "cell_type": "code",
   "execution_count": 37,
   "id": "335ad309",
   "metadata": {},
   "outputs": [
    {
     "data": {
      "text/plain": [
       "dict_keys(['Frequency', 'Angle of attack', 'Chord length', 'Free-stream velocity', 'Suction side displacement thickness'])"
      ]
     },
     "execution_count": 37,
     "metadata": {},
     "output_type": "execute_result"
    }
   ],
   "source": [
    "dict_test.keys()"
   ]
  },
  {
   "cell_type": "code",
   "execution_count": 41,
   "id": "c305f46a",
   "metadata": {},
   "outputs": [],
   "source": [
    "single_input = [list(dict_test.values())]"
   ]
  },
  {
   "cell_type": "code",
   "execution_count": 43,
   "id": "00e03da7",
   "metadata": {},
   "outputs": [
    {
     "name": "stderr",
     "output_type": "stream",
     "text": [
      "C:\\Users\\fazlu\\anaconda3\\lib\\site-packages\\sklearn\\base.py:450: UserWarning: X does not have valid feature names, but LinearRegression was fitted with feature names\n",
      "  warnings.warn(\n"
     ]
    },
    {
     "data": {
      "text/plain": [
       "-1279.435599223078"
      ]
     },
     "execution_count": 43,
     "metadata": {},
     "output_type": "execute_result"
    }
   ],
   "source": [
    "pickle_model.predict(single_input)[0]"
   ]
  },
  {
   "cell_type": "code",
   "execution_count": null,
   "id": "bf0a545c",
   "metadata": {},
   "outputs": [],
   "source": []
  }
 ],
 "metadata": {
  "kernelspec": {
   "display_name": "Python 3",
   "language": "python",
   "name": "python3"
  },
  "language_info": {
   "codemirror_mode": {
    "name": "ipython",
    "version": 3
   },
   "file_extension": ".py",
   "mimetype": "text/x-python",
   "name": "python",
   "nbconvert_exporter": "python",
   "pygments_lexer": "ipython3",
   "version": "3.9.12"
  }
 },
 "nbformat": 4,
 "nbformat_minor": 5
}
