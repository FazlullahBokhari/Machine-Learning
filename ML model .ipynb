{
 "cells": [
  {
   "cell_type": "code",
   "execution_count": 1,
   "id": "d245c658",
   "metadata": {},
   "outputs": [],
   "source": [
    "import pandas as pd\n",
    "import numpy as np\n",
    "import pandas as pd"
   ]
  },
  {
   "cell_type": "code",
   "execution_count": 2,
   "id": "beaee903",
   "metadata": {},
   "outputs": [
    {
     "data": {
      "text/plain": [
       "['Frequency',\n",
       " 'Angle of attack',\n",
       " 'Chord length',\n",
       " 'Free-stream velocity',\n",
       " 'Suction side displacement thickness',\n",
       " 'Scaled sound pressure level']"
      ]
     },
     "execution_count": 2,
     "metadata": {},
     "output_type": "execute_result"
    }
   ],
   "source": [
    "col_names = ['Frequency','Angle of attack','Chord length','Free-stream velocity','Suction side displacement thickness',\n",
    "             'Scaled sound pressure level']\n",
    "col_names"
   ]
  },
  {
   "cell_type": "code",
   "execution_count": 3,
   "id": "c40d74c3",
   "metadata": {},
   "outputs": [],
   "source": [
    "df = pd.read_csv('airfoil_self_noise.dat',sep='\\t',names=col_names)"
   ]
  },
  {
   "cell_type": "code",
   "execution_count": 4,
   "id": "69ffb60f",
   "metadata": {},
   "outputs": [
    {
     "data": {
      "text/html": [
       "<div>\n",
       "<style scoped>\n",
       "    .dataframe tbody tr th:only-of-type {\n",
       "        vertical-align: middle;\n",
       "    }\n",
       "\n",
       "    .dataframe tbody tr th {\n",
       "        vertical-align: top;\n",
       "    }\n",
       "\n",
       "    .dataframe thead th {\n",
       "        text-align: right;\n",
       "    }\n",
       "</style>\n",
       "<table border=\"1\" class=\"dataframe\">\n",
       "  <thead>\n",
       "    <tr style=\"text-align: right;\">\n",
       "      <th></th>\n",
       "      <th>Frequency</th>\n",
       "      <th>Angle of attack</th>\n",
       "      <th>Chord length</th>\n",
       "      <th>Free-stream velocity</th>\n",
       "      <th>Suction side displacement thickness</th>\n",
       "      <th>Scaled sound pressure level</th>\n",
       "    </tr>\n",
       "  </thead>\n",
       "  <tbody>\n",
       "    <tr>\n",
       "      <th>0</th>\n",
       "      <td>800</td>\n",
       "      <td>0.0</td>\n",
       "      <td>0.3048</td>\n",
       "      <td>71.3</td>\n",
       "      <td>0.002663</td>\n",
       "      <td>126.201</td>\n",
       "    </tr>\n",
       "    <tr>\n",
       "      <th>1</th>\n",
       "      <td>1000</td>\n",
       "      <td>0.0</td>\n",
       "      <td>0.3048</td>\n",
       "      <td>71.3</td>\n",
       "      <td>0.002663</td>\n",
       "      <td>125.201</td>\n",
       "    </tr>\n",
       "    <tr>\n",
       "      <th>2</th>\n",
       "      <td>1250</td>\n",
       "      <td>0.0</td>\n",
       "      <td>0.3048</td>\n",
       "      <td>71.3</td>\n",
       "      <td>0.002663</td>\n",
       "      <td>125.951</td>\n",
       "    </tr>\n",
       "    <tr>\n",
       "      <th>3</th>\n",
       "      <td>1600</td>\n",
       "      <td>0.0</td>\n",
       "      <td>0.3048</td>\n",
       "      <td>71.3</td>\n",
       "      <td>0.002663</td>\n",
       "      <td>127.591</td>\n",
       "    </tr>\n",
       "    <tr>\n",
       "      <th>4</th>\n",
       "      <td>2000</td>\n",
       "      <td>0.0</td>\n",
       "      <td>0.3048</td>\n",
       "      <td>71.3</td>\n",
       "      <td>0.002663</td>\n",
       "      <td>127.461</td>\n",
       "    </tr>\n",
       "  </tbody>\n",
       "</table>\n",
       "</div>"
      ],
      "text/plain": [
       "   Frequency  Angle of attack  Chord length  Free-stream velocity  \\\n",
       "0        800              0.0        0.3048                  71.3   \n",
       "1       1000              0.0        0.3048                  71.3   \n",
       "2       1250              0.0        0.3048                  71.3   \n",
       "3       1600              0.0        0.3048                  71.3   \n",
       "4       2000              0.0        0.3048                  71.3   \n",
       "\n",
       "   Suction side displacement thickness  Scaled sound pressure level  \n",
       "0                             0.002663                      126.201  \n",
       "1                             0.002663                      125.201  \n",
       "2                             0.002663                      125.951  \n",
       "3                             0.002663                      127.591  \n",
       "4                             0.002663                      127.461  "
      ]
     },
     "execution_count": 4,
     "metadata": {},
     "output_type": "execute_result"
    }
   ],
   "source": [
    "df.head()"
   ]
  },
  {
   "cell_type": "code",
   "execution_count": 5,
   "id": "e2b27b1d",
   "metadata": {},
   "outputs": [
    {
     "data": {
      "text/html": [
       "<div>\n",
       "<style scoped>\n",
       "    .dataframe tbody tr th:only-of-type {\n",
       "        vertical-align: middle;\n",
       "    }\n",
       "\n",
       "    .dataframe tbody tr th {\n",
       "        vertical-align: top;\n",
       "    }\n",
       "\n",
       "    .dataframe thead th {\n",
       "        text-align: right;\n",
       "    }\n",
       "</style>\n",
       "<table border=\"1\" class=\"dataframe\">\n",
       "  <thead>\n",
       "    <tr style=\"text-align: right;\">\n",
       "      <th></th>\n",
       "      <th>Frequency</th>\n",
       "      <th>Angle of attack</th>\n",
       "      <th>Chord length</th>\n",
       "      <th>Free-stream velocity</th>\n",
       "      <th>Suction side displacement thickness</th>\n",
       "    </tr>\n",
       "  </thead>\n",
       "  <tbody>\n",
       "    <tr>\n",
       "      <th>0</th>\n",
       "      <td>800</td>\n",
       "      <td>0.0</td>\n",
       "      <td>0.3048</td>\n",
       "      <td>71.3</td>\n",
       "      <td>0.002663</td>\n",
       "    </tr>\n",
       "    <tr>\n",
       "      <th>1</th>\n",
       "      <td>1000</td>\n",
       "      <td>0.0</td>\n",
       "      <td>0.3048</td>\n",
       "      <td>71.3</td>\n",
       "      <td>0.002663</td>\n",
       "    </tr>\n",
       "    <tr>\n",
       "      <th>2</th>\n",
       "      <td>1250</td>\n",
       "      <td>0.0</td>\n",
       "      <td>0.3048</td>\n",
       "      <td>71.3</td>\n",
       "      <td>0.002663</td>\n",
       "    </tr>\n",
       "    <tr>\n",
       "      <th>3</th>\n",
       "      <td>1600</td>\n",
       "      <td>0.0</td>\n",
       "      <td>0.3048</td>\n",
       "      <td>71.3</td>\n",
       "      <td>0.002663</td>\n",
       "    </tr>\n",
       "    <tr>\n",
       "      <th>4</th>\n",
       "      <td>2000</td>\n",
       "      <td>0.0</td>\n",
       "      <td>0.3048</td>\n",
       "      <td>71.3</td>\n",
       "      <td>0.002663</td>\n",
       "    </tr>\n",
       "    <tr>\n",
       "      <th>...</th>\n",
       "      <td>...</td>\n",
       "      <td>...</td>\n",
       "      <td>...</td>\n",
       "      <td>...</td>\n",
       "      <td>...</td>\n",
       "    </tr>\n",
       "    <tr>\n",
       "      <th>1498</th>\n",
       "      <td>2500</td>\n",
       "      <td>15.6</td>\n",
       "      <td>0.1016</td>\n",
       "      <td>39.6</td>\n",
       "      <td>0.052849</td>\n",
       "    </tr>\n",
       "    <tr>\n",
       "      <th>1499</th>\n",
       "      <td>3150</td>\n",
       "      <td>15.6</td>\n",
       "      <td>0.1016</td>\n",
       "      <td>39.6</td>\n",
       "      <td>0.052849</td>\n",
       "    </tr>\n",
       "    <tr>\n",
       "      <th>1500</th>\n",
       "      <td>4000</td>\n",
       "      <td>15.6</td>\n",
       "      <td>0.1016</td>\n",
       "      <td>39.6</td>\n",
       "      <td>0.052849</td>\n",
       "    </tr>\n",
       "    <tr>\n",
       "      <th>1501</th>\n",
       "      <td>5000</td>\n",
       "      <td>15.6</td>\n",
       "      <td>0.1016</td>\n",
       "      <td>39.6</td>\n",
       "      <td>0.052849</td>\n",
       "    </tr>\n",
       "    <tr>\n",
       "      <th>1502</th>\n",
       "      <td>6300</td>\n",
       "      <td>15.6</td>\n",
       "      <td>0.1016</td>\n",
       "      <td>39.6</td>\n",
       "      <td>0.052849</td>\n",
       "    </tr>\n",
       "  </tbody>\n",
       "</table>\n",
       "<p>1503 rows × 5 columns</p>\n",
       "</div>"
      ],
      "text/plain": [
       "      Frequency  Angle of attack  Chord length  Free-stream velocity  \\\n",
       "0           800              0.0        0.3048                  71.3   \n",
       "1          1000              0.0        0.3048                  71.3   \n",
       "2          1250              0.0        0.3048                  71.3   \n",
       "3          1600              0.0        0.3048                  71.3   \n",
       "4          2000              0.0        0.3048                  71.3   \n",
       "...         ...              ...           ...                   ...   \n",
       "1498       2500             15.6        0.1016                  39.6   \n",
       "1499       3150             15.6        0.1016                  39.6   \n",
       "1500       4000             15.6        0.1016                  39.6   \n",
       "1501       5000             15.6        0.1016                  39.6   \n",
       "1502       6300             15.6        0.1016                  39.6   \n",
       "\n",
       "      Suction side displacement thickness  \n",
       "0                                0.002663  \n",
       "1                                0.002663  \n",
       "2                                0.002663  \n",
       "3                                0.002663  \n",
       "4                                0.002663  \n",
       "...                                   ...  \n",
       "1498                             0.052849  \n",
       "1499                             0.052849  \n",
       "1500                             0.052849  \n",
       "1501                             0.052849  \n",
       "1502                             0.052849  \n",
       "\n",
       "[1503 rows x 5 columns]"
      ]
     },
     "execution_count": 5,
     "metadata": {},
     "output_type": "execute_result"
    }
   ],
   "source": [
    "X = df.iloc[:,:-1]\n",
    "X"
   ]
  },
  {
   "cell_type": "code",
   "execution_count": 6,
   "id": "dde3f0bb",
   "metadata": {},
   "outputs": [
    {
     "data": {
      "text/plain": [
       "0       126.201\n",
       "1       125.201\n",
       "2       125.951\n",
       "3       127.591\n",
       "4       127.461\n",
       "         ...   \n",
       "1498    110.264\n",
       "1499    109.254\n",
       "1500    106.604\n",
       "1501    106.224\n",
       "1502    104.204\n",
       "Name: Scaled sound pressure level, Length: 1503, dtype: float64"
      ]
     },
     "execution_count": 6,
     "metadata": {},
     "output_type": "execute_result"
    }
   ],
   "source": [
    "y = df.iloc[:,-1]\n",
    "y"
   ]
  },
  {
   "cell_type": "code",
   "execution_count": 7,
   "id": "dd1d6651",
   "metadata": {},
   "outputs": [],
   "source": [
    "# train and test data split\n",
    "from sklearn.model_selection import train_test_split\n",
    "X_train,X_test,y_train,y_test = train_test_split(X,y,test_size=0.2)"
   ]
  },
  {
   "cell_type": "code",
   "execution_count": 8,
   "id": "e7038682",
   "metadata": {},
   "outputs": [
    {
     "data": {
      "text/plain": [
       "<seaborn.axisgrid.PairGrid at 0x1e8aaa6ce80>"
      ]
     },
     "execution_count": 8,
     "metadata": {},
     "output_type": "execute_result"
    },
    {
     "data": {
      "image/png": "[encoded data removed]",
      "text/plain": [
       "<Figure size 900x900 with 30 Axes>"
      ]
     },
     "metadata": {
      "needs_background": "light"
     },
     "output_type": "display_data"
    }
   ],
   "source": [
    "import seaborn as sns\n",
    "sns.pairplot(X_train)"
   ]
  },
  {
   "cell_type": "code",
   "execution_count": 9,
   "id": "303d31da",
   "metadata": {},
   "outputs": [
    {
     "data": {
      "text/html": [
       "<div>\n",
       "<style scoped>\n",
       "    .dataframe tbody tr th:only-of-type {\n",
       "        vertical-align: middle;\n",
       "    }\n",
       "\n",
       "    .dataframe tbody tr th {\n",
       "        vertical-align: top;\n",
       "    }\n",
       "\n",
       "    .dataframe thead th {\n",
       "        text-align: right;\n",
       "    }\n",
       "</style>\n",
       "<table border=\"1\" class=\"dataframe\">\n",
       "  <thead>\n",
       "    <tr style=\"text-align: right;\">\n",
       "      <th></th>\n",
       "      <th>Frequency</th>\n",
       "      <th>Angle of attack</th>\n",
       "      <th>Chord length</th>\n",
       "      <th>Free-stream velocity</th>\n",
       "      <th>Suction side displacement thickness</th>\n",
       "    </tr>\n",
       "  </thead>\n",
       "  <tbody>\n",
       "    <tr>\n",
       "      <th>Frequency</th>\n",
       "      <td>1.000000</td>\n",
       "      <td>-0.285795</td>\n",
       "      <td>0.000237</td>\n",
       "      <td>0.127798</td>\n",
       "      <td>-0.239859</td>\n",
       "    </tr>\n",
       "    <tr>\n",
       "      <th>Angle of attack</th>\n",
       "      <td>-0.285795</td>\n",
       "      <td>1.000000</td>\n",
       "      <td>-0.478736</td>\n",
       "      <td>0.047937</td>\n",
       "      <td>0.759147</td>\n",
       "    </tr>\n",
       "    <tr>\n",
       "      <th>Chord length</th>\n",
       "      <td>0.000237</td>\n",
       "      <td>-0.478736</td>\n",
       "      <td>1.000000</td>\n",
       "      <td>-0.004541</td>\n",
       "      <td>-0.202223</td>\n",
       "    </tr>\n",
       "    <tr>\n",
       "      <th>Free-stream velocity</th>\n",
       "      <td>0.127798</td>\n",
       "      <td>0.047937</td>\n",
       "      <td>-0.004541</td>\n",
       "      <td>1.000000</td>\n",
       "      <td>-0.005316</td>\n",
       "    </tr>\n",
       "    <tr>\n",
       "      <th>Suction side displacement thickness</th>\n",
       "      <td>-0.239859</td>\n",
       "      <td>0.759147</td>\n",
       "      <td>-0.202223</td>\n",
       "      <td>-0.005316</td>\n",
       "      <td>1.000000</td>\n",
       "    </tr>\n",
       "  </tbody>\n",
       "</table>\n",
       "</div>"
      ],
      "text/plain": [
       "                                     Frequency  Angle of attack  Chord length  \\\n",
       "Frequency                             1.000000        -0.285795      0.000237   \n",
       "Angle of attack                      -0.285795         1.000000     -0.478736   \n",
       "Chord length                          0.000237        -0.478736      1.000000   \n",
       "Free-stream velocity                  0.127798         0.047937     -0.004541   \n",
       "Suction side displacement thickness  -0.239859         0.759147     -0.202223   \n",
       "\n",
       "                                     Free-stream velocity  \\\n",
       "Frequency                                        0.127798   \n",
       "Angle of attack                                  0.047937   \n",
       "Chord length                                    -0.004541   \n",
       "Free-stream velocity                             1.000000   \n",
       "Suction side displacement thickness             -0.005316   \n",
       "\n",
       "                                     Suction side displacement thickness  \n",
       "Frequency                                                      -0.239859  \n",
       "Angle of attack                                                 0.759147  \n",
       "Chord length                                                   -0.202223  \n",
       "Free-stream velocity                                           -0.005316  \n",
       "Suction side displacement thickness                             1.000000  "
      ]
     },
     "execution_count": 9,
     "metadata": {},
     "output_type": "execute_result"
    }
   ],
   "source": [
    "import matplotlib.pyplot as plt\n",
    "X_train.corr()"
   ]
  },
  {
   "cell_type": "code",
   "execution_count": 10,
   "id": "d796601e",
   "metadata": {},
   "outputs": [
    {
     "data": {
      "text/plain": [
       "'from pandas_profiling import profile_report\\npf = profile_report(df)\\npf.to_widgets(df) #EDA'"
      ]
     },
     "execution_count": 10,
     "metadata": {},
     "output_type": "execute_result"
    }
   ],
   "source": [
    "'''from pandas_profiling import profile_report\n",
    "pf = profile_report(df)\n",
    "pf.to_widgets(df) #EDA'''"
   ]
  },
  {
   "cell_type": "code",
   "execution_count": 11,
   "id": "ad357a4a",
   "metadata": {},
   "outputs": [
    {
     "name": "stderr",
     "output_type": "stream",
     "text": [
      "C:\\Users\\fazlu\\anaconda3\\lib\\site-packages\\seaborn\\_decorators.py:36: FutureWarning: Pass the following variable as a keyword arg: x. From version 0.12, the only valid positional argument will be `data`, and passing other arguments without an explicit keyword will result in an error or misinterpretation.\n",
      "  warnings.warn(\n"
     ]
    },
    {
     "data": {
      "text/plain": [
       "<AxesSubplot:xlabel='Frequency'>"
      ]
     },
     "execution_count": 11,
     "metadata": {},
     "output_type": "execute_result"
    },
    {
     "data": {
      "image/png": "[encoded data removed]",
      "text/plain": [
       "<Figure size 432x288 with 1 Axes>"
      ]
     },
     "metadata": {
      "needs_background": "light"
     },
     "output_type": "display_data"
    }
   ],
   "source": [
    "sns.boxplot(X_train['Frequency'])"
   ]
  },
  {
   "cell_type": "code",
   "execution_count": 12,
   "id": "6277c61b",
   "metadata": {},
   "outputs": [
    {
     "name": "stderr",
     "output_type": "stream",
     "text": [
      "C:\\Users\\fazlu\\anaconda3\\lib\\site-packages\\seaborn\\_decorators.py:36: FutureWarning: Pass the following variable as a keyword arg: x. From version 0.12, the only valid positional argument will be `data`, and passing other arguments without an explicit keyword will result in an error or misinterpretation.\n",
      "  warnings.warn(\n"
     ]
    },
    {
     "data": {
      "text/plain": [
       "<AxesSubplot:xlabel='Angle of attack'>"
      ]
     },
     "execution_count": 12,
     "metadata": {},
     "output_type": "execute_result"
    },
    {
     "data": {
      "image/png": "[encoded data removed]",
      "text/plain": [
       "<Figure size 432x288 with 1 Axes>"
      ]
     },
     "metadata": {
      "needs_background": "light"
     },
     "output_type": "display_data"
    }
   ],
   "source": [
    "sns.boxplot(X_train['Angle of attack'])"
   ]
  },
  {
   "cell_type": "code",
   "execution_count": 13,
   "id": "3e2a457c",
   "metadata": {},
   "outputs": [
    {
     "name": "stderr",
     "output_type": "stream",
     "text": [
      "C:\\Users\\fazlu\\anaconda3\\lib\\site-packages\\seaborn\\_decorators.py:36: FutureWarning: Pass the following variable as a keyword arg: x. From version 0.12, the only valid positional argument will be `data`, and passing other arguments without an explicit keyword will result in an error or misinterpretation.\n",
      "  warnings.warn(\n"
     ]
    },
    {
     "data": {
      "text/plain": [
       "<AxesSubplot:xlabel='Chord length'>"
      ]
     },
     "execution_count": 13,
     "metadata": {},
     "output_type": "execute_result"
    },
    {
     "data": {
      "image/png": "[encoded data removed]",
      "text/plain": [
       "<Figure size 432x288 with 1 Axes>"
      ]
     },
     "metadata": {
      "needs_background": "light"
     },
     "output_type": "display_data"
    }
   ],
   "source": [
    "sns.boxplot(X_train['Chord length'])"
   ]
  },
  {
   "cell_type": "code",
   "execution_count": 14,
   "id": "603ad9ce",
   "metadata": {},
   "outputs": [
    {
     "name": "stderr",
     "output_type": "stream",
     "text": [
      "C:\\Users\\fazlu\\anaconda3\\lib\\site-packages\\seaborn\\_decorators.py:36: FutureWarning: Pass the following variable as a keyword arg: x. From version 0.12, the only valid positional argument will be `data`, and passing other arguments without an explicit keyword will result in an error or misinterpretation.\n",
      "  warnings.warn(\n"
     ]
    },
    {
     "data": {
      "text/plain": [
       "<AxesSubplot:xlabel='Free-stream velocity'>"
      ]
     },
     "execution_count": 14,
     "metadata": {},
     "output_type": "execute_result"
    },
    {
     "data": {
      "image/png": "[encoded data removed]",
      "text/plain": [
       "<Figure size 432x288 with 1 Axes>"
      ]
     },
     "metadata": {
      "needs_background": "light"
     },
     "output_type": "display_data"
    }
   ],
   "source": [
    "sns.boxplot(X_train['Free-stream velocity'])"
   ]
  },
  {
   "cell_type": "code",
   "execution_count": 15,
   "id": "33181556",
   "metadata": {},
   "outputs": [
    {
     "name": "stderr",
     "output_type": "stream",
     "text": [
      "C:\\Users\\fazlu\\anaconda3\\lib\\site-packages\\seaborn\\_decorators.py:36: FutureWarning: Pass the following variable as a keyword arg: x. From version 0.12, the only valid positional argument will be `data`, and passing other arguments without an explicit keyword will result in an error or misinterpretation.\n",
      "  warnings.warn(\n"
     ]
    },
    {
     "data": {
      "text/plain": [
       "<AxesSubplot:xlabel='Suction side displacement thickness'>"
      ]
     },
     "execution_count": 15,
     "metadata": {},
     "output_type": "execute_result"
    },
    {
     "data": {
      "image/png": "[encoded data removed]",
      "text/plain": [
       "<Figure size 432x288 with 1 Axes>"
      ]
     },
     "metadata": {
      "needs_background": "light"
     },
     "output_type": "display_data"
    }
   ],
   "source": [
    "sns.boxplot(X_train['Suction side displacement thickness'])"
   ]
  },
  {
   "cell_type": "code",
   "execution_count": 16,
   "id": "d25ccaa8",
   "metadata": {},
   "outputs": [
    {
     "data": {
      "text/plain": [
       "Index(['Frequency', 'Angle of attack', 'Chord length', 'Free-stream velocity',\n",
       "       'Suction side displacement thickness'],\n",
       "      dtype='object')"
      ]
     },
     "execution_count": 16,
     "metadata": {},
     "output_type": "execute_result"
    }
   ],
   "source": [
    "X_train.columns"
   ]
  },
  {
   "cell_type": "code",
   "execution_count": 17,
   "id": "20323825",
   "metadata": {},
   "outputs": [
    {
     "name": "stderr",
     "output_type": "stream",
     "text": [
      "C:\\Users\\fazlu\\anaconda3\\lib\\site-packages\\seaborn\\_decorators.py:36: FutureWarning: Pass the following variables as keyword args: x, y. From version 0.12, the only valid positional argument will be `data`, and passing other arguments without an explicit keyword will result in an error or misinterpretation.\n",
      "  warnings.warn(\n"
     ]
    },
    {
     "data": {
      "text/plain": [
       "<AxesSubplot:xlabel='Frequency', ylabel='Suction side displacement thickness'>"
      ]
     },
     "execution_count": 17,
     "metadata": {},
     "output_type": "execute_result"
    },
    {
     "data": {
      "image/png": "[encoded data removed]",
      "text/plain": [
       "<Figure size 432x288 with 1 Axes>"
      ]
     },
     "metadata": {
      "needs_background": "light"
     },
     "output_type": "display_data"
    }
   ],
   "source": [
    "sns.scatterplot(X_train['Frequency'],X_train['Suction side displacement thickness'])"
   ]
  },
  {
   "cell_type": "code",
   "execution_count": 18,
   "id": "2a563d49",
   "metadata": {},
   "outputs": [
    {
     "data": {
      "text/plain": [
       "array([0.00266337, 0.00283081, 0.00310138, 0.00331266, 0.00336729,\n",
       "       0.00392107, 0.00425727, 0.00452492, 0.00495741, 0.00529514,\n",
       "       0.00497773, 0.00579636, 0.00214345, 0.00229336, 0.00253511,\n",
       "       0.0027238 , 0.00293031, 0.00313525, 0.00346574, 0.00372371,\n",
       "       0.00400603, 0.0042862 , 0.00473801, 0.00509068, 0.0051942 ,\n",
       "       0.00614329, 0.0104404 , 0.0111706 , 0.0123481 , 0.0132672 ,\n",
       "       0.0015988 , 0.00172668, 0.00193287, 0.00209405, 0.00243851,\n",
       "       0.00294804, 0.00401199, 0.00433288, 0.00485029, 0.00525474,\n",
       "       0.00752039, 0.00909175, 0.0193001 , 0.0208438 , 0.0233328 ,\n",
       "       0.0252785 , 0.0483159 , 0.0584113 , 0.00074048, 0.00076193,\n",
       "       0.00079182, 0.00081216, 0.00142788, 0.00152689, 0.00544854,\n",
       "       0.00566229, 0.00580776, 0.014072  , 0.0150478 , 0.0264269 ,\n",
       "       0.0271925 , 0.0282593 , 0.0289853 , 0.0341183 , 0.036484  ,\n",
       "       0.00040068, 0.00041229, 0.00042846, 0.00043947, 0.00084863,\n",
       "       0.00087322, 0.00090748, 0.00093079, 0.00420654, 0.0043284 ,\n",
       "       0.00449821, 0.00461377, 0.0121808 , 0.0130253 , 0.016104  ,\n",
       "       0.0165706 , 0.0172206 , 0.0176631 , 0.0214178 , 0.0229028 ,\n",
       "       0.00121072, 0.00131983, 0.00146332, 0.00150092, 0.00202822,\n",
       "       0.002211  , 0.00245138, 0.00251435, 0.00478288, 0.0052139 ,\n",
       "       0.00578076, 0.00592927, 0.0103088 , 0.0124596 , 0.0337792 ,\n",
       "       0.0368233 , 0.0408268 , 0.0418756 , 0.0437259 , 0.0528487 ])"
      ]
     },
     "execution_count": 18,
     "metadata": {},
     "output_type": "execute_result"
    }
   ],
   "source": [
    "df['Suction side displacement thickness'].unique()"
   ]
  },
  {
   "cell_type": "code",
   "execution_count": 19,
   "id": "a6d0a5b9",
   "metadata": {},
   "outputs": [
    {
     "data": {
      "text/plain": [
       "array([0.3048, 0.2286, 0.1524, 0.0508, 0.0254, 0.1016])"
      ]
     },
     "execution_count": 19,
     "metadata": {},
     "output_type": "execute_result"
    }
   ],
   "source": [
    "df['Chord length'].unique()"
   ]
  },
  {
   "cell_type": "code",
   "execution_count": 20,
   "id": "2734f8e4",
   "metadata": {},
   "outputs": [
    {
     "data": {
      "text/plain": [
       "Index(['Frequency', 'Angle of attack', 'Chord length', 'Free-stream velocity',\n",
       "       'Suction side displacement thickness', 'Scaled sound pressure level'],\n",
       "      dtype='object')"
      ]
     },
     "execution_count": 20,
     "metadata": {},
     "output_type": "execute_result"
    }
   ],
   "source": [
    "df.columns"
   ]
  },
  {
   "cell_type": "code",
   "execution_count": 21,
   "id": "136ee777",
   "metadata": {},
   "outputs": [
    {
     "name": "stderr",
     "output_type": "stream",
     "text": [
      "C:\\Users\\fazlu\\anaconda3\\lib\\site-packages\\seaborn\\_decorators.py:36: FutureWarning: Pass the following variable as a keyword arg: x. From version 0.12, the only valid positional argument will be `data`, and passing other arguments without an explicit keyword will result in an error or misinterpretation.\n",
      "  warnings.warn(\n"
     ]
    },
    {
     "data": {
      "text/plain": [
       "<AxesSubplot:xlabel='Scaled sound pressure level'>"
      ]
     },
     "execution_count": 21,
     "metadata": {},
     "output_type": "execute_result"
    },
    {
     "data": {
      "image/png": "[encoded data removed]",
      "text/plain": [
       "<Figure size 432x288 with 1 Axes>"
      ]
     },
     "metadata": {
      "needs_background": "light"
     },
     "output_type": "display_data"
    }
   ],
   "source": [
    "sns.boxplot(df['Scaled sound pressure level'])"
   ]
  },
  {
   "cell_type": "code",
   "execution_count": 22,
   "id": "64db6cb5",
   "metadata": {},
   "outputs": [],
   "source": [
    "from sklearn.linear_model import LinearRegression"
   ]
  },
  {
   "cell_type": "code",
   "execution_count": 23,
   "id": "cd29ae9e",
   "metadata": {},
   "outputs": [],
   "source": [
    "regressor = LinearRegression()"
   ]
  },
  {
   "cell_type": "code",
   "execution_count": 24,
   "id": "4dc4af3a",
   "metadata": {},
   "outputs": [
    {
     "data": {
      "text/plain": [
       "LinearRegression()"
      ]
     },
     "execution_count": 24,
     "metadata": {},
     "output_type": "execute_result"
    }
   ],
   "source": [
    "regressor.fit(X_train,y_train)"
   ]
  },
  {
   "cell_type": "code",
   "execution_count": 25,
   "id": "bdd228eb",
   "metadata": {},
   "outputs": [],
   "source": [
    "import pickle"
   ]
  },
  {
   "cell_type": "code",
   "execution_count": 26,
   "id": "db08de27",
   "metadata": {},
   "outputs": [],
   "source": [
    "pickle.dump(regressor, open('model.pkl','wb'))"
   ]
  },
  {
   "cell_type": "code",
   "execution_count": 27,
   "id": "de9b8c2b",
   "metadata": {},
   "outputs": [],
   "source": [
    "pickle_model = pickle.load(open('model.pkl','rb'))"
   ]
  },
  {
   "cell_type": "code",
   "execution_count": 28,
   "id": "9358e45b",
   "metadata": {},
   "outputs": [
    {
     "data": {
      "text/plain": [
       "array([130.28284959, 130.18541747, 130.25926947, 117.3583312 ,\n",
       "       123.00028833, 117.59710945, 124.19337583, 124.62908113,\n",
       "       112.2805288 , 130.58337899, 121.93470597, 123.14430676,\n",
       "       120.24972713, 126.91211892, 131.55432243, 127.42950392,\n",
       "       127.61952812, 120.47193566, 128.33359361, 125.09619248,\n",
       "       125.6798486 , 124.81551634, 127.80435879, 120.71846286,\n",
       "       121.12325963, 125.9037365 , 130.37732509, 122.06355484,\n",
       "       126.39067707, 124.4960957 , 124.03703659, 121.60798484,\n",
       "       129.9027975 , 122.79267283, 123.15864367, 116.47153975,\n",
       "       126.7715154 , 122.14566727, 123.84773137, 127.62022484,\n",
       "       123.95744021, 122.32210967, 125.63099369, 133.2655944 ,\n",
       "       122.27513415, 132.42777634, 120.48989927, 127.30235663,\n",
       "       122.55854157, 124.68473244, 122.08428587, 127.91644448,\n",
       "       118.79960861, 123.70037827, 126.61745514, 120.35271241,\n",
       "       126.4169941 , 129.37722255, 123.69475346, 121.49300225,\n",
       "       126.59194171, 129.33048407, 121.48134656, 114.49601328,\n",
       "       123.92498107, 115.64261696, 128.07268434, 123.7334368 ,\n",
       "       125.96108102, 131.55058189, 129.84027023, 120.05797634,\n",
       "       126.90989389, 132.68274121, 118.82376452, 129.68710669,\n",
       "       113.59905151, 125.90313844, 120.40059464, 122.82903919,\n",
       "       124.09713729, 130.05012212, 129.94916265, 126.21576721,\n",
       "       119.64775643, 126.14660486, 122.57653369, 128.88511071,\n",
       "       124.71755655, 132.06911187, 122.33870779, 122.0805221 ,\n",
       "       116.14892798, 121.23870768, 131.17577442, 132.15594621,\n",
       "       120.18151063, 125.68492282, 125.00573299, 117.09560184,\n",
       "       130.51490478, 127.61953295, 122.1569364 , 124.86408554,\n",
       "       112.51829959, 124.81913152, 130.73834825, 119.44699001,\n",
       "       122.49654943, 128.05644448, 127.78424837, 130.65555277,\n",
       "       130.83426488, 122.81146683, 126.75275913, 121.95726593,\n",
       "       123.98454233, 123.99592917, 124.73263884, 122.02787609,\n",
       "       128.69264552, 116.16974489, 123.92711609, 124.49714386,\n",
       "       123.35693774, 117.23621828, 120.99954538, 121.79614291,\n",
       "       124.16440465, 128.70736854, 128.50522375, 124.69480872,\n",
       "       131.03308432, 132.40434246, 128.86500029, 125.22726524,\n",
       "       116.83422575, 125.19645392, 120.82505093, 121.67206749,\n",
       "       122.88831061, 123.21080001, 123.99911318, 124.01544056,\n",
       "       126.5183655 , 116.01484992, 125.65556961, 132.23884864,\n",
       "       128.76756534, 130.99466641, 129.98650831, 128.50922726,\n",
       "       125.76756855, 132.12937906, 126.01557841, 129.95724882,\n",
       "       126.78753838, 125.38856038, 128.51341825, 119.85608112,\n",
       "       131.96408759, 127.54785534, 124.73803753, 114.42550886,\n",
       "       126.85075415, 124.8803291 , 127.07385167, 128.59267195,\n",
       "       123.59261269, 125.30308244, 130.10598867, 122.19248841,\n",
       "       121.62145895, 124.19238418, 124.48227286, 123.06183593,\n",
       "       130.72696724, 119.88893364, 133.51988897, 121.1099502 ,\n",
       "       122.43167279, 113.81641321, 124.46623589, 124.47593546,\n",
       "       116.87929422, 119.53804102, 124.18339509, 126.90719816,\n",
       "       125.11431557, 124.62027875, 116.99509533, 125.01775031,\n",
       "       131.19057748, 128.53336596, 119.24741739, 123.36019274,\n",
       "       124.6998821 , 125.89231029, 126.34489893, 118.70129902,\n",
       "       119.48210673, 120.83274576, 125.61844288, 126.77150045,\n",
       "       129.56570655, 133.80092685, 124.31844024, 125.00867342,\n",
       "       127.68681342, 126.78274661, 118.07515783, 121.8198226 ,\n",
       "       127.4157873 , 125.05716194, 118.46806835, 128.94953638,\n",
       "       122.01758495, 128.18117884, 129.71242009, 122.04668369,\n",
       "       128.09776563, 124.96155405, 130.99429635, 126.37131728,\n",
       "       123.77926908, 124.48374296, 123.01715947, 122.06706587,\n",
       "       114.67376709, 126.00411168, 128.1987794 , 126.7627105 ,\n",
       "       122.8956581 , 127.79800135, 121.8744441 , 124.82702938,\n",
       "       120.46280913, 124.99525726, 125.50040346, 114.42111535,\n",
       "       122.08029729, 121.45298347, 128.00670522, 133.51032149,\n",
       "       128.36004427, 108.59005721, 119.01890457, 130.14429198,\n",
       "       131.31035989, 125.7991545 , 118.80632737, 126.93703483,\n",
       "       125.354139  , 127.99558823, 126.49873809, 122.61402715,\n",
       "       122.40515093, 125.24122798, 124.88072072, 125.79942802,\n",
       "       121.17511253, 121.35823766, 128.95208881, 124.54621733,\n",
       "       126.58746766, 133.889841  , 130.18286504, 129.13940527,\n",
       "       121.6016682 , 126.58459832, 120.58775866, 130.23257073,\n",
       "       121.38342091, 127.80776325, 125.83114219, 122.18900054,\n",
       "       132.26641298, 122.00327164, 124.14539376, 122.92542821,\n",
       "       129.39212747, 127.53930126, 122.03318832, 125.50092124,\n",
       "       125.14667934, 131.61133074, 123.00355707, 120.51889024,\n",
       "       130.23313596, 116.05702775, 113.97965677, 127.32814624,\n",
       "       122.04995243, 123.57042507, 124.9495338 , 130.68585854,\n",
       "       126.69842362, 123.32142528, 117.7430126 , 126.52804672,\n",
       "       125.46837391])"
      ]
     },
     "execution_count": 28,
     "metadata": {},
     "output_type": "execute_result"
    }
   ],
   "source": [
    "#batch input\n",
    "pickle_model.predict(X_test)"
   ]
  },
  {
   "cell_type": "code",
   "execution_count": 29,
   "id": "14c3f031",
   "metadata": {},
   "outputs": [
    {
     "data": {
      "text/html": [
       "<div>\n",
       "<style scoped>\n",
       "    .dataframe tbody tr th:only-of-type {\n",
       "        vertical-align: middle;\n",
       "    }\n",
       "\n",
       "    .dataframe tbody tr th {\n",
       "        vertical-align: top;\n",
       "    }\n",
       "\n",
       "    .dataframe thead th {\n",
       "        text-align: right;\n",
       "    }\n",
       "</style>\n",
       "<table border=\"1\" class=\"dataframe\">\n",
       "  <thead>\n",
       "    <tr style=\"text-align: right;\">\n",
       "      <th></th>\n",
       "      <th>Frequency</th>\n",
       "      <th>Angle of attack</th>\n",
       "      <th>Chord length</th>\n",
       "      <th>Free-stream velocity</th>\n",
       "      <th>Suction side displacement thickness</th>\n",
       "    </tr>\n",
       "  </thead>\n",
       "  <tbody>\n",
       "    <tr>\n",
       "      <th>790</th>\n",
       "      <td>2000</td>\n",
       "      <td>4.2</td>\n",
       "      <td>0.0508</td>\n",
       "      <td>39.6</td>\n",
       "      <td>0.001527</td>\n",
       "    </tr>\n",
       "    <tr>\n",
       "      <th>485</th>\n",
       "      <td>630</td>\n",
       "      <td>0.0</td>\n",
       "      <td>0.1524</td>\n",
       "      <td>39.6</td>\n",
       "      <td>0.001933</td>\n",
       "    </tr>\n",
       "    <tr>\n",
       "      <th>1320</th>\n",
       "      <td>800</td>\n",
       "      <td>3.3</td>\n",
       "      <td>0.1016</td>\n",
       "      <td>39.6</td>\n",
       "      <td>0.002451</td>\n",
       "    </tr>\n",
       "    <tr>\n",
       "      <th>44</th>\n",
       "      <td>6300</td>\n",
       "      <td>0.0</td>\n",
       "      <td>0.3048</td>\n",
       "      <td>39.6</td>\n",
       "      <td>0.003101</td>\n",
       "    </tr>\n",
       "    <tr>\n",
       "      <th>1477</th>\n",
       "      <td>500</td>\n",
       "      <td>15.6</td>\n",
       "      <td>0.1016</td>\n",
       "      <td>71.3</td>\n",
       "      <td>0.043726</td>\n",
       "    </tr>\n",
       "    <tr>\n",
       "      <th>...</th>\n",
       "      <td>...</td>\n",
       "      <td>...</td>\n",
       "      <td>...</td>\n",
       "      <td>...</td>\n",
       "      <td>...</td>\n",
       "    </tr>\n",
       "    <tr>\n",
       "      <th>635</th>\n",
       "      <td>800</td>\n",
       "      <td>9.9</td>\n",
       "      <td>0.1524</td>\n",
       "      <td>71.3</td>\n",
       "      <td>0.019300</td>\n",
       "    </tr>\n",
       "    <tr>\n",
       "      <th>85</th>\n",
       "      <td>1000</td>\n",
       "      <td>1.5</td>\n",
       "      <td>0.3048</td>\n",
       "      <td>39.6</td>\n",
       "      <td>0.003921</td>\n",
       "    </tr>\n",
       "    <tr>\n",
       "      <th>1238</th>\n",
       "      <td>4000</td>\n",
       "      <td>22.2</td>\n",
       "      <td>0.0254</td>\n",
       "      <td>39.6</td>\n",
       "      <td>0.022903</td>\n",
       "    </tr>\n",
       "    <tr>\n",
       "      <th>14</th>\n",
       "      <td>500</td>\n",
       "      <td>0.0</td>\n",
       "      <td>0.3048</td>\n",
       "      <td>55.5</td>\n",
       "      <td>0.002831</td>\n",
       "    </tr>\n",
       "    <tr>\n",
       "      <th>332</th>\n",
       "      <td>500</td>\n",
       "      <td>4.0</td>\n",
       "      <td>0.2286</td>\n",
       "      <td>39.6</td>\n",
       "      <td>0.004738</td>\n",
       "    </tr>\n",
       "  </tbody>\n",
       "</table>\n",
       "<p>301 rows × 5 columns</p>\n",
       "</div>"
      ],
      "text/plain": [
       "      Frequency  Angle of attack  Chord length  Free-stream velocity  \\\n",
       "790        2000              4.2        0.0508                  39.6   \n",
       "485         630              0.0        0.1524                  39.6   \n",
       "1320        800              3.3        0.1016                  39.6   \n",
       "44         6300              0.0        0.3048                  39.6   \n",
       "1477        500             15.6        0.1016                  71.3   \n",
       "...         ...              ...           ...                   ...   \n",
       "635         800              9.9        0.1524                  71.3   \n",
       "85         1000              1.5        0.3048                  39.6   \n",
       "1238       4000             22.2        0.0254                  39.6   \n",
       "14          500              0.0        0.3048                  55.5   \n",
       "332         500              4.0        0.2286                  39.6   \n",
       "\n",
       "      Suction side displacement thickness  \n",
       "790                              0.001527  \n",
       "485                              0.001933  \n",
       "1320                             0.002451  \n",
       "44                               0.003101  \n",
       "1477                             0.043726  \n",
       "...                                   ...  \n",
       "635                              0.019300  \n",
       "85                               0.003921  \n",
       "1238                             0.022903  \n",
       "14                               0.002831  \n",
       "332                              0.004738  \n",
       "\n",
       "[301 rows x 5 columns]"
      ]
     },
     "execution_count": 29,
     "metadata": {},
     "output_type": "execute_result"
    }
   ],
   "source": [
    "X_test"
   ]
  },
  {
   "cell_type": "code",
   "execution_count": 31,
   "id": "af689095",
   "metadata": {},
   "outputs": [
    {
     "data": {
      "text/plain": [
       "Frequency                              500.000000\n",
       "Angle of attack                          4.000000\n",
       "Chord length                             0.228600\n",
       "Free-stream velocity                    39.600000\n",
       "Suction side displacement thickness      0.004738\n",
       "Name: 332, dtype: float64"
      ]
     },
     "execution_count": 31,
     "metadata": {},
     "output_type": "execute_result"
    }
   ],
   "source": [
    "X_test.loc[332]"
   ]
  },
  {
   "cell_type": "code",
   "execution_count": 32,
   "id": "0e4b9521",
   "metadata": {},
   "outputs": [],
   "source": [
    "dict_test = {\n",
    "    \"Frequency\":9,\n",
    "    \"Angle of attack\":0,\n",
    "    \"Chord length\":10,\n",
    "    \"Free-stream velocity\":1,\n",
    "    \"Suction side displacement thickness\":7\n",
    "}"
   ]
  },
  {
   "cell_type": "code",
   "execution_count": 33,
   "id": "67ecfa75",
   "metadata": {},
   "outputs": [
    {
     "data": {
      "text/plain": [
       "{'Frequency': 9,\n",
       " 'Angle of attack': 0,\n",
       " 'Chord length': 10,\n",
       " 'Free-stream velocity': 1,\n",
       " 'Suction side displacement thickness': 7}"
      ]
     },
     "execution_count": 33,
     "metadata": {},
     "output_type": "execute_result"
    }
   ],
   "source": [
    "dict_test"
   ]
  },
  {
   "cell_type": "code",
   "execution_count": 34,
   "id": "d45b4b7e",
   "metadata": {},
   "outputs": [
    {
     "data": {
      "text/plain": [
       "dict_values([9, 0, 10, 1, 7])"
      ]
     },
     "execution_count": 34,
     "metadata": {},
     "output_type": "execute_result"
    }
   ],
   "source": [
    "dict_test.values()"
   ]
  },
  {
   "cell_type": "code",
   "execution_count": 35,
   "id": "335ad309",
   "metadata": {},
   "outputs": [
    {
     "data": {
      "text/plain": [
       "dict_keys(['Frequency', 'Angle of attack', 'Chord length', 'Free-stream velocity', 'Suction side displacement thickness'])"
      ]
     },
     "execution_count": 35,
     "metadata": {},
     "output_type": "execute_result"
    }
   ],
   "source": [
    "dict_test.keys()"
   ]
  },
  {
   "cell_type": "code",
   "execution_count": 36,
   "id": "c305f46a",
   "metadata": {},
   "outputs": [],
   "source": [
    "single_input = [list(dict_test.values())]"
   ]
  },
  {
   "cell_type": "code",
   "execution_count": 37,
   "id": "00e03da7",
   "metadata": {},
   "outputs": [
    {
     "name": "stderr",
     "output_type": "stream",
     "text": [
      "C:\\Users\\fazlu\\anaconda3\\lib\\site-packages\\sklearn\\base.py:450: UserWarning: X does not have valid feature names, but LinearRegression was fitted with feature names\n",
      "  warnings.warn(\n"
     ]
    },
    {
     "data": {
      "text/plain": [
       "-1194.743810028985"
      ]
     },
     "execution_count": 37,
     "metadata": {},
     "output_type": "execute_result"
    }
   ],
   "source": [
    "pickle_model.predict(single_input)[0]"
   ]
  },
  {
   "cell_type": "code",
   "execution_count": null,
   "id": "bf0a545c",
   "metadata": {},
   "outputs": [],
   "source": []
  },
  {
   "cell_type": "code",
   "execution_count": null,
   "id": "4ff521d9",
   "metadata": {},
   "outputs": [],
   "source": []
  },
  {
   "cell_type": "code",
   "execution_count": null,
   "id": "00cf38a5",
   "metadata": {},
   "outputs": [],
   "source": []
  },
  {
   "cell_type": "code",
   "execution_count": null,
   "id": "f237c750",
   "metadata": {},
   "outputs": [],
   "source": []
  },
  {
   "cell_type": "code",
   "execution_count": null,
   "id": "c911b529",
   "metadata": {},
   "outputs": [],
   "source": []
  },
  {
   "cell_type": "code",
   "execution_count": null,
   "id": "e6b6faf4",
   "metadata": {},
   "outputs": [],
   "source": []
  }
 ],
 "metadata": {
  "kernelspec": {
   "display_name": "Python 3 (ipykernel)",
   "language": "python",
   "name": "python3"
  },
  "language_info": {
   "codemirror_mode": {
    "name": "ipython",
    "version": 3
   },
   "file_extension": ".py",
   "mimetype": "text/x-python",
   "name": "python",
   "nbconvert_exporter": "python",
   "pygments_lexer": "ipython3",
   "version": "3.9.12"
  }
 },
 "nbformat": 4,
 "nbformat_minor": 5
}
